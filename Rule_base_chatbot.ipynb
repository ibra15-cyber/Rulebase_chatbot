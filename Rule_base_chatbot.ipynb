{
  "nbformat": 4,
  "nbformat_minor": 0,
  "metadata": {
    "colab": {
      "provenance": [],
      "authorship_tag": "ABX9TyNxYMO/4oVf7cbF+7AG4xdk",
      "include_colab_link": true
    },
    "kernelspec": {
      "name": "python3",
      "display_name": "Python 3"
    },
    "language_info": {
      "name": "python"
    }
  },
  "cells": [
    {
      "cell_type": "markdown",
      "metadata": {
        "id": "view-in-github",
        "colab_type": "text"
      },
      "source": [
        "<a href=\"https://colab.research.google.com/github/ibra15-cyber/Rulebase_chatbot/blob/master/Rule_base_chatbot.ipynb\" target=\"_parent\"><img src=\"https://colab.research.google.com/assets/colab-badge.svg\" alt=\"Open In Colab\"/></a>"
      ]
    },
    {
      "cell_type": "code",
      "execution_count": null,
      "metadata": {
        "id": "21RBlvpTheQh"
      },
      "outputs": [],
      "source": [
        "import re\n",
        "import random "
      ]
    },
    {
      "cell_type": "code",
      "source": [],
      "metadata": {
        "id": "W827R_yz3pT0"
      },
      "execution_count": null,
      "outputs": []
    },
    {
      "cell_type": "code",
      "source": [
        "class RuleBot:\n",
        "  negative_responses = (\"no\",\"nope\", \"nah\", \"naw\", \"not a chance\", \"sorry\" )\n",
        "  exit_commands=(\"quit\", \"pause\", \"exit\", \"goodbye\", \"bye\", \"later\")\n",
        "\n",
        "  random_questions = (\n",
        "      \"Why are you here?\",\n",
        "      \"Are there many humans like you?\",\n",
        "      \"What do you consume for sustenance?\",\n",
        "      \"Does the Earth have a leader?\",\n",
        "      \"What planets have you visisted?\",\n",
        "      \"What technology do you have on this planet?\",\n",
        "  )\n",
        "\n",
        "  def __init__(self):\n",
        "    self.alienbabble = {\n",
        "        \"describe_planet_intent\": r'.*\\s*your planet.*',\n",
        "        \"answer_why_intent\": r'.why\\share.*',\n",
        "        \"about_intellipat\": r'.*\\s*intellipaat',\n",
        "        \"about_sessions\": r'.*\\s*session'\n",
        "    }\n",
        "\n",
        "  def greet(self):\n",
        "    self.name=input(\"What is your name?\\n\")\n",
        "    will_help = input(f\"Hi {self.name}, I am Rule-Bot. Will you help me learn about your planet?\\n\")\n",
        "    if will_help not in self.negative_responses:\n",
        "      print(\"Ok, that's nice of you!\")\n",
        "      return self.chat()\n",
        "\n",
        "\n",
        "  def make_exit(self, reply):\n",
        "    for command in self.exit_commands:\n",
        "      if reply==command:\n",
        "        print(\"Okay, have a nice Earth day!\")\n",
        "        return True\n",
        "\n",
        "\n",
        "  def chat(self):\n",
        "    reply = input(random.choice(self.random_questions)).lower()\n",
        "    while not self.make_exit(reply):\n",
        "      reply = input(self.match_reply(reply))\n",
        "\n",
        "  def match_reply(self, reply):\n",
        "    for key, value in self.alienbabble.items():\n",
        "      intent = key\n",
        "      regex_pattern = value\n",
        "      found_match = re.match(regex_pattern, reply)\n",
        "      if found_match and intent == \"describe_planet_intent\":\n",
        "        return self.descrive_palnaet_intent()\n",
        "      elif found_match and intent == \"answer_why_intent\":\n",
        "        return self.answer_why_intent()\n",
        "      elif found_match and intent == \"about_intellipat\":\n",
        "        return self.about_intellipat()\n",
        "      elif found_match and intent == \"about_sessions\":\n",
        "        return self.about_sessions()\n",
        "    if not found_match:\n",
        "      return self.no_match_intent()\n",
        "\n",
        "\n",
        "  def describe_planet_intenet(self):\n",
        "    responses=(\"My planet is a utopia of diverse organisms and species.\\n\", \n",
        "               \"I am from Opidipus, the capital of Wayward Galaxies.\\n\")\n",
        "    return random.choice(responses)\n",
        "\n",
        "  def about_intellipat(self):\n",
        "    responses = (\"Intellipaat is world's largest professional company\\n\", \"Intellipaat will make you learn concepts in the way\\n\", \"Intellipaat is where your career and skill grows\\n\")\n",
        "    return random.choice(responses)\n",
        "\n",
        "  def about_sessions(self):\n",
        "    responses = (\"Session is on 14th Aug 2022\\n\", \"Session was Cool!\\n\")\n",
        "    return random.choice(responses)\n",
        "\n",
        "  def answer_why_intent(self):\n",
        "    responses=(\"I come in peace\\n\", \"I am here to collect data on your planet and its inhabitants\\n\", \"i heard the cofee is good\\n\")\n",
        "    return random.choice(responses)\n",
        "\n",
        "  def no_match_intent(self):\n",
        "    responses = (\n",
        "        \"Please tell me more. \\n\", \"Tell me more\\n\", \"why do you say that?\\n\", \"I see, can you elaborate?\\n\",\n",
        "        \"Interesting. Can you tell me more?\\n\", \"I see, How do you think?\\n\", \"why?\\n\",\n",
        "        \"How do you think I feel when you say that?\\n\"\n",
        "    )\n",
        "    return random.choice(responses)\n",
        "\n",
        "\n",
        "AlienBot = RuleBot()\n",
        "AlienBot.greet()\n",
        "\n",
        "\n",
        "\n",
        "  "
      ],
      "metadata": {
        "colab": {
          "base_uri": "https://localhost:8080/"
        },
        "id": "cXgzrNDEhhtI",
        "outputId": "fe8c4bfe-25a6-40ec-a9fd-c052af978426"
      },
      "execution_count": null,
      "outputs": [
        {
          "metadata": {
            "tags": null
          },
          "name": "stdout",
          "output_type": "stream",
          "text": [
            "Ok, that's nice of you!\n"
          ]
        }
      ]
    }
  ]
}